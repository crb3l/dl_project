{
  "cells": [
    {
      "cell_type": "code",
      "execution_count": 1,
      "metadata": {
        "colab": {
          "base_uri": "https://localhost:8080/"
        },
        "id": "428UfAdV1UV9",
        "outputId": "e70b909d-fec1-42be-88de-cddd46417033"
      },
      "outputs": [],
      "source": [
        "\n",
        "#path=\"./BasicsMusicalInstrumClassifi/audio/london_phill_dataset_multi/\""
      ]
    },
    {
      "cell_type": "code",
      "execution_count": 2,
      "metadata": {
        "id": "xfiYR5_P1qS2"
      },
      "outputs": [],
      "source": [
        "import librosa\n",
        "import os,fnmatch\n",
        "import numpy as np\n",
        "import pandas as pd\n",
        "\n",
        "import librosa.display\n",
        "import IPython.display as ipd\n",
        "\n",
        "import matplotlib.pyplot as plt\n",
        "from sklearn.preprocessing import LabelEncoder\n",
        "from sklearn.preprocessing import StandardScaler\n",
        "from sklearn.model_selection import StratifiedShuffleSplit\n",
        "from sklearn.neighbors import KNeighborsClassifier\n",
        "from sklearn.metrics import recall_score, precision_score, accuracy_score\n",
        "from sklearn.metrics import confusion_matrix, f1_score, classification_report"
      ]
    },
    {
      "cell_type": "code",
      "execution_count": 3,
      "metadata": {
        "id": "B10IOiJFLTqo"
      },
      "outputs": [],
      "source": [
        "import warnings\n",
        "warnings.filterwarnings('ignore')"
      ]
    },
    {
      "cell_type": "code",
      "execution_count": null,
      "metadata": {
        "colab": {
          "base_uri": "https://localhost:8080/"
        },
        "id": "9dJXD8BsCWX7",
        "outputId": "3a7a559a-9b0c-4119-c6eb-451d7f876ced"
      },
      "outputs": [],
      "source": [
        "import glob\n",
        "import os\n",
        "\n",
        "# Define the path with the wildcard pattern\n",
        "path = \"BasicsMusicalInstrumClassifi/audio/london_phill_dataset_multi/**/*.mp3\"\n",
        "\n",
        "# Use glob to find all .mp3 files matching the pattern\n",
        "files = glob.glob(path, recursive=True)\n",
        "\n",
        "print(\"found %d audio files in %s\" % (len(files), path))\n"
      ]
    },
    {
      "cell_type": "code",
      "execution_count": 5,
      "metadata": {
        "id": "2sjtB42qCgmN"
      },
      "outputs": [],
      "source": [
        "# Get Labels\n",
        "labels =[]\n",
        "classes=['cello','flute','oboe','saxaphone','trumpet','viola']\n",
        "color_dict={'cello':'blue', 'flute':'red', 'oboe':'green', 'saxaphone':'black', 'trumpet':'magenta', 'viola':'yellow'}\n",
        "color_list=[]\n",
        "for filename in files:\n",
        "    for name in classes:\n",
        "        if fnmatch.fnmatchcase(filename, '*'+name+'*'):\n",
        "            labels.append(name)\n",
        "            color_list.append(color_dict[name])\n",
        "            break\n",
        "    else:\n",
        "        labels.append('other')"
      ]
    },
    {
      "cell_type": "code",
      "execution_count": null,
      "metadata": {
        "colab": {
          "base_uri": "https://localhost:8080/"
        },
        "id": "m_ooE9v8ClGG",
        "outputId": "812a8b21-dc16-4376-f40f-98658c23f7a7"
      },
      "outputs": [],
      "source": [
        "# Encode Labels\n",
        "labelencoder = LabelEncoder()\n",
        "labelencoder.fit(labels)\n",
        "print(len(labelencoder.classes_), \"classes:\", \", \".join(list(labelencoder.classes_)))\n",
        "classes_num = labelencoder.transform(labels)"
      ]
    },
    {
      "cell_type": "code",
      "execution_count": 7,
      "metadata": {
        "id": "-QjcB_LCCou4"
      },
      "outputs": [],
      "source": [
        "# Parameters\n",
        "# Signal Processing Parameters\n",
        "fs = 44100         # Sampling Frequency\n",
        "n_fft = 2048       # length of the FFT window\n",
        "hop_length = 512   # Number of samples between successive frames\n",
        "n_mels = 128       # Number of Mel bands\n",
        "n_mfcc = 13        # Number of MFCCs\n",
        "\n",
        "# Machine Learning Parameters\n",
        "testset_size = 0.25 #Percentage of data for Testing\n",
        "n_neighbors=1       # Number of neighbors for kNN Classifier"
      ]
    },
    {
      "cell_type": "code",
      "execution_count": 8,
      "metadata": {
        "id": "80wooKmrK08P"
      },
      "outputs": [],
      "source": [
        "# Define Function to Calculate MFCC, Delta_MFCC and Delta2_MFCC\n",
        "def get_features(y, sr=fs):\n",
        "    S = librosa.feature.melspectrogram(y=y, sr=fs, n_mels=n_mels)\n",
        "    mfcc = librosa.feature.mfcc(S=librosa.power_to_db(S), n_mfcc=n_mfcc)\n",
        "    feature_vector = np.mean(mfcc,1)\n",
        "    #feature_vector = (feature_vector-np.mean(feature_vector))/np.std(feature_vector)\n",
        "    return feature_vector"
      ]
    },
    {
      "cell_type": "code",
      "execution_count": null,
      "metadata": {
        "colab": {
          "base_uri": "https://localhost:8080/"
        },
        "id": "LD307wJtK74W",
        "outputId": "6a242336-f503-4bff-a8f2-b46fdfdbff91"
      },
      "outputs": [],
      "source": [
        "feature_vectors = []\n",
        "sound_paths = []\n",
        "fs = 22050  # Example sampling rate\n",
        "\n",
        "for i, f in enumerate(files):\n",
        "    print(\"get %d of %d = %s\" % (i + 1, len(files), f))\n",
        "    try:\n",
        "        y, sr = librosa.load(f, sr=fs)\n",
        "        y /= y.max()  # Normalize\n",
        "        if len(y) < 2:\n",
        "            print(\"Error loading %s\" % f)\n",
        "            continue\n",
        "        feat = get_features(y, sr)\n",
        "        feature_vectors.append(feat)\n",
        "        sound_paths.append(f)\n",
        "    except Exception as e:\n",
        "        print(\"Error loading %s. Error: %s\" % (f, e))\n",
        "\n",
        "print(\"Calculated %d feature vectors\" % len(feature_vectors))"
      ]
    },
    {
      "cell_type": "code",
      "execution_count": null,
      "metadata": {},
      "outputs": [],
      "source": [
        "print(len(feature_vectors))"
      ]
    },
    {
      "cell_type": "code",
      "execution_count": null,
      "metadata": {
        "colab": {
          "base_uri": "https://localhost:8080/"
        },
        "id": "22axR6DVMws3",
        "outputId": "bc1b3b0d-7b87-4152-c64c-fc8c83aab1f1"
      },
      "outputs": [],
      "source": [
        "\n",
        "# Scale features using Standard Scaler\n",
        "scaler = StandardScaler()\n",
        "scaled_feature_vectors = scaler.fit_transform(np.array(feature_vectors))\n",
        "print(\"Feature vectors shape:\",scaled_feature_vectors.shape)"
      ]
    },
    {
      "cell_type": "code",
      "execution_count": 12,
      "metadata": {
        "id": "2BDNzMGPM0N0"
      },
      "outputs": [],
      "source": [
        "# Create Train and Test Set\n",
        "splitter = StratifiedShuffleSplit(n_splits=1, test_size=testset_size, random_state=0)\n",
        "splits = splitter.split(scaled_feature_vectors, classes_num)\n",
        "for train_index, test_index in splits:\n",
        "    train_set = scaled_feature_vectors[train_index]\n",
        "    test_set = scaled_feature_vectors[test_index]\n",
        "    train_classes = classes_num[train_index]\n",
        "    test_classes = classes_num[test_index]"
      ]
    },
    {
      "cell_type": "code",
      "execution_count": null,
      "metadata": {
        "colab": {
          "base_uri": "https://localhost:8080/"
        },
        "id": "qg07XS1wNA73",
        "outputId": "616b845d-a728-4aa6-b28f-a97baffe998e"
      },
      "outputs": [],
      "source": [
        "# Check Set Shapes\n",
        "print(\"train_set shape:\",train_set.shape)\n",
        "print(\"test_set shape:\",test_set.shape)\n",
        "print(\"train_classes shape:\",train_classes.shape)\n",
        "print(\"test_classes shape:\",test_classes.shape)"
      ]
    },
    {
      "cell_type": "code",
      "execution_count": 14,
      "metadata": {
        "id": "m21dwEFENFPI"
      },
      "outputs": [],
      "source": [
        "# KNN Classifier\n",
        "n_neighbors=1\n",
        "model_knn = KNeighborsClassifier(n_neighbors=n_neighbors)"
      ]
    },
    {
      "cell_type": "code",
      "execution_count": 15,
      "metadata": {
        "id": "8CyEU-iNNMLy"
      },
      "outputs": [],
      "source": [
        "# kNN\n",
        "model_knn.fit(train_set, train_classes);"
      ]
    },
    {
      "cell_type": "code",
      "execution_count": 16,
      "metadata": {
        "id": "mTddwOorNPld"
      },
      "outputs": [],
      "source": [
        "# Predict using the Test Set\n",
        "predicted_labels = model_knn.predict(test_set)"
      ]
    },
    {
      "cell_type": "code",
      "execution_count": null,
      "metadata": {},
      "outputs": [],
      "source": [
        "\n",
        "\n",
        "\n",
        "print(labelencoder.inverse_transform(predicted_labels))"
      ]
    },
    {
      "cell_type": "code",
      "execution_count": null,
      "metadata": {
        "colab": {
          "base_uri": "https://localhost:8080/"
        },
        "id": "rikjbmhTNTwL",
        "outputId": "50c7a6f3-66ba-4fa3-8b7a-259830dd2b58"
      },
      "outputs": [],
      "source": [
        "#Evaluation\n",
        "# Recall - the ability of the classifier to find all the positive samples\n",
        "print(\"Recall: \", recall_score(test_classes, predicted_labels,average=None))\n",
        "\n",
        "# Precision - The precision is intuitively the ability of the classifier not to \n",
        "#label as positive a sample that is negative\n",
        "print(\"Precision: \", precision_score(test_classes, predicted_labels,average=None))\n",
        "\n",
        "# F1-Score - The F1 score can be interpreted as a weighted average of the precision \n",
        "#and recall\n",
        "print(\"F1-Score: \", f1_score(test_classes, predicted_labels, average=None))\n",
        "\n",
        "# Accuracy - the number of correctly classified samples\n",
        "print(\"Accuracy: %.2f  ,\" % accuracy_score(test_classes, predicted_labels,normalize=True), accuracy_score(test_classes, predicted_labels,normalize=False) )\n",
        "print(\"Number of samples:\",test_classes.shape[0])"
      ]
    },
    {
      "cell_type": "markdown",
      "metadata": {
        "id": "6rJjvPGRP0IP"
      },
      "source": [
        "# Precision - The precision is intuitively the ability of the classifier not to label as positive a sample that is negative\n",
        "# Recall - the ability of the classifier to find all the positive samples\n",
        "# F1-Score - The F1 score can be interpreted as a weighted average of the precision and recall"
      ]
    },
    {
      "cell_type": "code",
      "execution_count": null,
      "metadata": {
        "colab": {
          "base_uri": "https://localhost:8080/"
        },
        "id": "wBYFb_cjPuUg",
        "outputId": "fb0c285c-53c4-4ed4-8d65-3c2a58a6843c"
      },
      "outputs": [],
      "source": [
        "print(classification_report(test_classes, predicted_labels))"
      ]
    },
    {
      "cell_type": "code",
      "execution_count": 20,
      "metadata": {
        "id": "8Aijf5sTgD94"
      },
      "outputs": [],
      "source": [
        "# Compute confusion matrix\n",
        "cnf_matrix = confusion_matrix(test_classes, predicted_labels)\n",
        "np.set_printoptions(precision=2)"
      ]
    },
    {
      "cell_type": "code",
      "execution_count": null,
      "metadata": {
        "colab": {
          "base_uri": "https://localhost:8080/",
          "height": 671
        },
        "id": "h53LlbqIgH2H",
        "outputId": "ff0c5c3d-d4df-4e34-a228-bb738ccdd922"
      },
      "outputs": [],
      "source": [
        "import itertools\n",
        "\n",
        "# Define the plot_confusion_matrix function\n",
        "def plot_confusion_matrix(cm, classes, title='Confusion matrix', cmap=plt.cm.Blues):\n",
        "    plt.imshow(cm, interpolation='nearest', cmap=cmap)\n",
        "    plt.title(title)\n",
        "    plt.colorbar()\n",
        "    tick_marks = np.arange(len(classes))\n",
        "    plt.xticks(tick_marks, classes, rotation=45)\n",
        "    plt.yticks(tick_marks, classes)\n",
        "\n",
        "    fmt = 'd'\n",
        "    thresh = cm.max() / 2.\n",
        "    for i, j in itertools.product(range(cm.shape[0]), range(cm.shape[1])):\n",
        "        plt.text(j, i, format(cm[i, j], fmt),\n",
        "                 horizontalalignment=\"center\",\n",
        "                 color=\"white\" if cm[i, j] > thresh else \"black\")\n",
        "\n",
        "    plt.tight_layout()\n",
        "    plt.ylabel('True label')\n",
        "    plt.xlabel('Predicted label')\n",
        "\n",
        "# Plot non-normalized confusion matrix\n",
        "plt.figure(figsize=(18,9))\n",
        "plot_confusion_matrix(cnf_matrix, classes=labelencoder.classes_,\n",
        "                      title='Confusion matrix, without normalization')"
      ]
    },
    {
      "cell_type": "code",
      "execution_count": 22,
      "metadata": {
        "id": "dELTdL0_fw9j"
      },
      "outputs": [],
      "source": [
        "# Find wrong predicted samples indexes\n",
        "#wrong_predictions = [i for i, (e1, e2) in enumerate(zip(test_classes, predicted_labels)) if e1 != e2]\n",
        "wrong_predictions = [i for i, (e1, e2) in enumerate(zip(predicted_labels,test_classes)) if e1 != e2]"
      ]
    },
    {
      "cell_type": "code",
      "execution_count": null,
      "metadata": {
        "colab": {
          "base_uri": "https://localhost:8080/"
        },
        "id": "VsveJIrCf1g8",
        "outputId": "66595f68-9bd9-4dfd-d16e-65145d1e4a04"
      },
      "outputs": [],
      "source": [
        "# Find wrong predicted audio files\n",
        "print(np.array(labels)[test_index[wrong_predictions]])\n",
        "print(predicted_labels[wrong_predictions].T)\n",
        "print(labelencoder.inverse_transform(predicted_labels[wrong_predictions]))\n",
        "print(np.array(files)[test_index[wrong_predictions]])"
      ]
    },
    {
      "cell_type": "code",
      "execution_count": 24,
      "metadata": {
        "id": "d6nA-Y9nP2_P"
      },
      "outputs": [],
      "source": [
        "#choosing a k value\n",
        "\n",
        "error_rate = []\n",
        "\n",
        "for i in range(1,20):\n",
        "    \n",
        "    knn = KNeighborsClassifier(n_neighbors=i)\n",
        "    knn.fit(train_set, train_classes)\n",
        "    pred_i = knn.predict(test_set)\n",
        "    error_rate.append(np.mean(pred_i != test_classes))\n",
        "    # wherever the pred value is not matching the test class value it will find the mean of that which will give the error rate."
      ]
    },
    {
      "cell_type": "code",
      "execution_count": null,
      "metadata": {
        "colab": {
          "base_uri": "https://localhost:8080/",
          "height": 421
        },
        "id": "492arBAWP_mw",
        "outputId": "3002fc07-acc6-494f-9f7c-2c76a919f2d0"
      },
      "outputs": [],
      "source": [
        "plt.figure(figsize=(10,6))\n",
        "plt.plot(range(1,20),error_rate,color='blue', linestyle='dashed', marker='o',\n",
        "         markerfacecolor='red', markersize=10)\n",
        "plt.title('Error Rate vs. K Value')\n",
        "plt.xlabel('K')\n",
        "plt.ylabel('Error Rate')"
      ]
    },
    {
      "cell_type": "markdown",
      "metadata": {
        "id": "iHADW1W4QObR"
      },
      "source": [
        "From the plot we see that the least stable error rate occurs around k =7 hence we will use k = 7 as the best model"
      ]
    },
    {
      "cell_type": "code",
      "execution_count": 26,
      "metadata": {
        "id": "nKL0E05JQRmn"
      },
      "outputs": [],
      "source": [
        "knn = KNeighborsClassifier(n_neighbors=7)\n",
        "knn.fit(train_set, train_classes)\n",
        "# Predict using the Test Set\n",
        "predicted_labels = knn.predict(test_set)"
      ]
    },
    {
      "cell_type": "code",
      "execution_count": null,
      "metadata": {
        "colab": {
          "base_uri": "https://localhost:8080/"
        },
        "id": "dF2Hv8rTQYjq",
        "outputId": "18117429-f39c-4fd5-ac91-42ed1f05935e"
      },
      "outputs": [],
      "source": [
        "# Accuracy - the number of correctly classified samples\n",
        "print(\"Accuracy: %.2f  ,\" % accuracy_score(test_classes, predicted_labels,normalize=True), accuracy_score(test_classes, predicted_labels,normalize=False) )\n",
        "print(\"Number of samples:\",test_classes.shape[0])"
      ]
    },
    {
      "cell_type": "code",
      "execution_count": null,
      "metadata": {
        "colab": {
          "base_uri": "https://localhost:8080/"
        },
        "id": "PvZCVuMegYnw",
        "outputId": "d067f1b9-eb3b-4d7a-a10a-4b6adbf46548"
      },
      "outputs": [],
      "source": [
        "#Evaluation\n",
        "# Recall - the ability of the classifier to find all the positive samples\n",
        "print(\"Recall: \", recall_score(test_classes, predicted_labels,average=None))\n",
        "\n",
        "# Precision - The precision is intuitively the ability of the classifier not to \n",
        "#label as positive a sample that is negative\n",
        "print(\"Precision: \", precision_score(test_classes, predicted_labels,average=None))\n",
        "\n",
        "# F1-Score - The F1 score can be interpreted as a weighted average of the precision \n",
        "#and recall\n",
        "print(\"F1-Score: \", f1_score(test_classes, predicted_labels, average=None))\n",
        "\n",
        "# Accuracy - the number of correctly classified samples\n",
        "print(\"Accuracy: %.2f  ,\" % accuracy_score(test_classes, predicted_labels,normalize=True), accuracy_score(test_classes, predicted_labels,normalize=False) )\n",
        "print(\"Number of samples:\",test_classes.shape[0])"
      ]
    },
    {
      "cell_type": "code",
      "execution_count": null,
      "metadata": {
        "colab": {
          "base_uri": "https://localhost:8080/"
        },
        "id": "fkBuPuLFgQ4u",
        "outputId": "ed696916-52cd-48a2-cef0-943cec1eb803"
      },
      "outputs": [],
      "source": [
        "print(classification_report(test_classes, predicted_labels))"
      ]
    },
    {
      "cell_type": "code",
      "execution_count": 30,
      "metadata": {
        "id": "9Q2j7qYbNX4D"
      },
      "outputs": [],
      "source": [
        "# Compute confusion matrix\n",
        "cnf_matrix = confusion_matrix(test_classes, predicted_labels)\n",
        "np.set_printoptions(precision=2)"
      ]
    },
    {
      "cell_type": "code",
      "execution_count": null,
      "metadata": {
        "colab": {
          "base_uri": "https://localhost:8080/",
          "height": 671
        },
        "id": "rwRBSdKPZBuN",
        "outputId": "3dd7664b-59d2-4c0e-f7be-53f3c97bc553"
      },
      "outputs": [],
      "source": [
        "# Plot non-normalized confusion matrix\n",
        "plt.figure(figsize=(18,9))\n",
        "plot_confusion_matrix(cnf_matrix, classes=labelencoder.classes_,\n",
        "                      title='Confusion matrix, without normalization')"
      ]
    },
    {
      "cell_type": "code",
      "execution_count": 32,
      "metadata": {
        "id": "uEFhsFQRNzmf"
      },
      "outputs": [],
      "source": [
        "# Find wrong predicted samples indexes\n",
        "wrong_predictions = [i for i, (e1, e2) in enumerate(zip(predicted_labels,test_classes)) if e1 != e2]"
      ]
    },
    {
      "cell_type": "code",
      "execution_count": null,
      "metadata": {
        "colab": {
          "base_uri": "https://localhost:8080/"
        },
        "id": "LL6sPie0N2yq",
        "outputId": "921e88bb-1670-4007-a268-bd055752daba"
      },
      "outputs": [],
      "source": [
        "# Find wrong predicted audio files\n",
        "print(np.array(labels)[test_index[wrong_predictions]])\n",
        "print(predicted_labels[wrong_predictions].T)\n",
        "print(labelencoder.inverse_transform(predicted_labels[wrong_predictions]))\n",
        "print(np.array(files)[test_index[wrong_predictions]])"
      ]
    },
    {
      "cell_type": "code",
      "execution_count": null,
      "metadata": {},
      "outputs": [],
      "source": [
        "#test_audio_path = '/home/dani/Desktop/proiectdl/BasicsMusicalInstrumClassifi/audio/london_phill_dataset_multi/sax/saxophone_A3_1_forte_normal.mp3'\n",
        "\n",
        "test_audio_path = 'BasicsMusicalInstrumClassifi/audio/london_phill_dataset_multi/cello/cello_Gs4_025_pianissimo_arco-normal.mp3'\n",
        "#test_audio_path = '/home/dani/Desktop/proiectdl/BasicsMusicalInstrumClassifi/audio/london_phill_dataset_multi/oboe/oboe_A5_1_forte_normal.mp3'\n",
        "# Define function for extracting MFCC features\n",
        "def extract_features(audio_path):\n",
        "    y, sr = librosa.load(audio_path, sr=44100)\n",
        "    # Normalize the audio\n",
        "    y /= np.max(np.abs(y))\n",
        "    # Extract MFCCs\n",
        "    mfccs = librosa.feature.mfcc(y=y, sr=sr, n_mfcc=13)\n",
        "    mfccs_mean = np.mean(mfccs, axis=1)\n",
        "    return mfccs_mean\n",
        "\n",
        "# Function to predict the class of a single audio file\n",
        "def predict_audio_class(audio_path, model_knn, labelencoder, scaler):\n",
        "    # Extract features from the audio file\n",
        "    features = extract_features(audio_path)\n",
        "    \n",
        "    # Reshape features to fit the model input\n",
        "    features_reshaped = features.reshape(1, -1)\n",
        "    \n",
        "    # Scale the features\n",
        "    scaled_features = scaler.transform(features_reshaped)\n",
        "    \n",
        "    # Predict the label using the trained model\n",
        "    predicted_label = model_knn.predict(scaled_features)\n",
        "    \n",
        "    # Convert label back to class name using label encoder\n",
        "    predicted_class_name = labelencoder.inverse_transform(predicted_label)\n",
        "    \n",
        "    return predicted_class_name[0]\n",
        "\n",
        "# Example usag\n",
        "predicted_class = predict_audio_class(test_audio_path, model_knn, labelencoder, scaler)\n",
        "\n",
        "\n",
        "import matplotlib.image as mpimg\n",
        "\n",
        "# Path to the folder containing instrument images\n",
        "image_folder = \"instruments/\"\n",
        "\n",
        "# Function to display the instrument image\n",
        "def display_instrument_image(predicted_class):\n",
        "  \n",
        "    # Map the instrument name to the corresponding image file\n",
        "    image_path = os.path.join(image_folder, f\"{predicted_class}.jpeg\")  \n",
        "    \n",
        "    if os.path.exists(image_path):\n",
        "        try:\n",
        "            # Load and display the image\n",
        "            img = mpimg.imread(image_path)\n",
        "            plt.figure(figsize=(5, 5))\n",
        "            plt.imshow(img)\n",
        "            plt.axis('off')  # Hide axes for better visual presentation\n",
        "            plt.title(f\"Recognized Instrument: {predicted_class}\", fontsize=16)\n",
        "            plt.show()\n",
        "        except SyntaxError:\n",
        "            print(f\"File at {image_path} is not a valid PNG file.\")\n",
        "    else:\n",
        "        print(f\"Image for instrument '{predicted_class}' not found.\")\n",
        "\n",
        "display_instrument_image(predicted_class)\n"
      ]
    }
  ],
  "metadata": {
    "colab": {
      "authorship_tag": "ABX9TyOKD4SLWR5nV4/A4awfvKkO",
      "include_colab_link": true,
      "name": "knn.ipynb",
      "provenance": []
    },
    "kernelspec": {
      "display_name": "Python 3",
      "name": "python3"
    },
    "language_info": {
      "codemirror_mode": {
        "name": "ipython",
        "version": 3
      },
      "file_extension": ".py",
      "mimetype": "text/x-python",
      "name": "python",
      "nbconvert_exporter": "python",
      "pygments_lexer": "ipython3",
      "version": "3.10.12"
    }
  },
  "nbformat": 4,
  "nbformat_minor": 0
}
