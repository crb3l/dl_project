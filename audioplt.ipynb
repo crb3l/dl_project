{
  "cells": [
    {
      "cell_type": "code",
      "execution_count": null,
      "metadata": {
        "colab": {
          "base_uri": "https://localhost:8080/"
        },
        "id": "0lFu4vSovr0Q",
        "outputId": "be784531-62c4-444a-b5fe-48fb7534d51d"
      },
      "outputs": [],
      "source": [
        "\n",
        "path=\"./BasicsMusicalInstrumClassifi/audio/london_phill_dataset_multi/\""
      ]
    },
    {
      "cell_type": "code",
      "execution_count": 5,
      "metadata": {
        "id": "Jirmr79XvwZS"
      },
      "outputs": [],
      "source": [
        "import matplotlib.pyplot as plt\n",
        "import numpy as np"
      ]
    },
    {
      "cell_type": "code",
      "execution_count": 2,
      "metadata": {
        "id": "NpaTlALqv_Cy"
      },
      "outputs": [],
      "source": [
        "import librosa\n",
        "import librosa.display"
      ]
    },
    {
      "cell_type": "code",
      "execution_count": null,
      "metadata": {
        "colab": {
          "base_uri": "https://localhost:8080/",
          "height": 228
        },
        "id": "t-MQ1FVwwBpX",
        "outputId": "484191c7-51d5-4406-f0e6-b804666034cd"
      },
      "outputs": [],
      "source": [
        "y,sr=librosa.load('BasicsMusicalInstrumClassifi/audio/london_phill_dataset_multi/cello/cello_A2_025_forte_arco-normal.mp3',duration=3)\n",
        "plt.figure()\n",
        "plt.subplot(2,1,1)\n",
        "librosa.display.waveshow(y,sr=sr)\n",
        "plt.title('Monophonic')"
      ]
    },
    {
      "cell_type": "code",
      "execution_count": null,
      "metadata": {
        "colab": {
          "base_uri": "https://localhost:8080/",
          "height": 216
        },
        "id": "f3jw7qlWwjP9",
        "outputId": "e2334d14-5732-4085-ad88-3775eedee9ae"
      },
      "outputs": [],
      "source": [
        "y,sr=librosa.load('BasicsMusicalInstrumClassifi/audio/london_phill_dataset_multi/cello/cello_A2_025_forte_arco-normal.mp3',duration=3)\n",
        "y_harm,y_perc=librosa.effects.hpss(y)\n",
        "plt.subplot(2,1,2)\n",
        "librosa.display.waveshow(y_harm,sr=sr,alpha=0.25)\n",
        "librosa.display.waveshow(y_perc,sr=sr,color='r',alpha=0.5)\n",
        "plt.title('Harmonic+Percussive')\n",
        "plt.tight_layout()\n",
        "plt.savefig('signal.png')"
      ]
    },
    {
      "cell_type": "code",
      "execution_count": null,
      "metadata": {
        "colab": {
          "base_uri": "https://localhost:8080/",
          "height": 297
        },
        "id": "LI1aslHpxCYw",
        "outputId": "c945033f-bb6c-4a55-9a0c-4b043834cdde"
      },
      "outputs": [],
      "source": [
        "S,phase=librosa.magphase(librosa.stft(y=y))\n",
        "librosa.display.specshow(librosa.amplitude_to_db(S,ref=np.max),y_axis='log',x_axis='time')\n",
        "plt.title('log Power Spectogram')\n",
        "plt.tight_layout()\n",
        "plt.savefig('spectogram.png')"
      ]
    }
  ],
  "metadata": {
    "colab": {
      "authorship_tag": "ABX9TyNyz/EVcCUmaRlCYovpSCoj",
      "include_colab_link": true,
      "name": "audioplt",
      "provenance": []
    },
    "kernelspec": {
      "display_name": ".venv",
      "language": "python",
      "name": "python3"
    },
    "language_info": {
      "codemirror_mode": {
        "name": "ipython",
        "version": 3
      },
      "file_extension": ".py",
      "mimetype": "text/x-python",
      "name": "python",
      "nbconvert_exporter": "python",
      "pygments_lexer": "ipython3",
      "version": "3.11.5"
    }
  },
  "nbformat": 4,
  "nbformat_minor": 0
}
