{
  "cells": [
    {
      "cell_type": "code",
      "execution_count": 1,
      "metadata": {
        "id": "fcCRU_vCcBEW"
      },
      "outputs": [],
      "source": [
        "import warnings\n",
        "warnings.filterwarnings('ignore')"
      ]
    },
    {
      "cell_type": "code",
      "execution_count": 2,
      "metadata": {
        "id": "ixevaBovwnIU"
      },
      "outputs": [],
      "source": [
        "classes=['cello','flute','oboe','sax','trumpet','viola']"
      ]
    },
    {
      "cell_type": "code",
      "execution_count": 3,
      "metadata": {
        "id": "jm4fHRxu6WS-"
      },
      "outputs": [],
      "source": [
        "# imports\n",
        "import numpy as np\n",
        "import matplotlib.pyplot as plt \n",
        "from glob import glob\n",
        "import librosa\n",
        "import librosa.display\n",
        "import IPython.display as ipd # needed to preview audio file\n",
        "import os"
      ]
    },
    {
      "cell_type": "code",
      "execution_count": 12,
      "metadata": {
        "id": "f9q82UNG6aE5"
      },
      "outputs": [],
      "source": [
        "# Mel Spectrogram (less white around)\n",
        "\n",
        "def mel_spectrogram(audio_files, full_path):\n",
        "\n",
        "    # image_path = fullPath + '/spectrograms/'\n",
        "    # image_path = os.path.join(full_path, '/spectrograms2')\n",
        "    image_path=full_path\n",
        "    try:\n",
        "        os.makedirs(image_path)\n",
        "    except FileExistsError as exception:\n",
        "        print('')\n",
        "\n",
        "    for audio in audio_files:\n",
        "        y = audio[0]\n",
        "        sr = audio[1]\n",
        "        file = audio[2]\n",
        "\n",
        "        S = librosa.feature.melspectrogram(y=y, sr=sr)\n",
        "        fig, ax = plt.subplots(figsize=(10.8,5.4))\n",
        "        S_dB = librosa.power_to_db(S, ref=np.max)\n",
        "        img = librosa.display.specshow(S_dB, sr=sr)\n",
        "\n",
        "        fig.savefig(file[:-4] + '.png', transparent=True)\n",
        "        plt.close(fig)"
      ]
    },
    {
      "cell_type": "code",
      "execution_count": null,
      "metadata": {
        "colab": {
          "base_uri": "https://localhost:8080/"
        },
        "id": "ShhxwpM86eY6",
        "outputId": "3bf7157d-72b4-415f-c16a-9113d851aa45"
      },
      "outputs": [],
      "source": [
        "\n",
        "path_audio = \"BasicsMusicalInstrumClassifi/audio/london_phill_dataset_multi\"\n",
        "fullPath = path_audio\n",
        "folders = [folder for folder in os.listdir(path_audio) if os.path.isdir(os.path.join(path_audio, folder))]\n",
        "print(folders)\n",
        "\n",
        "audio_files = []\n",
        "for cls in classes:\n",
        "    cls_path = os.path.join(path_audio, cls)\n",
        "    if os.path.exists(cls_path):\n",
        "        files = [file for file in os.listdir(cls_path) if file.endswith('.mp3')]\n",
        "        for file in files:\n",
        "            file_path = os.path.join(cls_path, file)\n",
        "            try:\n",
        "                y, sr = librosa.load(file_path, sr=None)\n",
        "                audio_files.append((y, sr, file))\n",
        "            except Exception as e:\n",
        "                print(f\"Error loading {file_path}: {e}\")\n",
        "\n",
        "print(f\"Loaded {len(audio_files)} audio files.\")"
      ]
    },
    {
      "cell_type": "code",
      "execution_count": null,
      "metadata": {},
      "outputs": [],
      "source": [
        "# Generate spectrograms\n",
        "for cls in classes:\n",
        "    cls_path = os.path.join(path_audio, cls)\n",
        "   \n",
        "    cls_audio_files = [(y, sr, file) for y, sr, file in audio_files if file in os.listdir(cls_path)]\n",
        "    # cls_path=\"BasicsMusicalInstrumClassifi/audio/london_phill_dataset_multi/spectrograms2\"\n",
        "    mel_spectrogram(cls_audio_files, cls_path)\n"
      ]
    },
    {
      "cell_type": "code",
      "execution_count": null,
      "metadata": {
        "colab": {
          "base_uri": "https://localhost:8080/",
          "height": 557
        },
        "id": "BtITj1FKD0AS",
        "outputId": "0d70344c-6d29-482e-9dc5-3abfaa21ab70"
      },
      "outputs": [],
      "source": [
        "from tensorflow.keras.preprocessing import image\n",
        "img=image.load_img(\"BasicsMusicalInstrumClassifi/audio/london_phill_dataset_multi/spectrograms/cello_A2_025_forte_arco-normal.png\")\n",
        "img\n"
      ]
    },
    {
      "cell_type": "code",
      "execution_count": null,
      "metadata": {
        "colab": {
          "base_uri": "https://localhost:8080/"
        },
        "id": "-kHKegsED6u3",
        "outputId": "eb23e0b4-b77e-4350-b5a6-c42a78108815"
      },
      "outputs": [],
      "source": [
        "img_arr=image.img_to_array(img)\n",
        "print(img_arr.shape)"
      ]
    },
    {
      "cell_type": "code",
      "execution_count": null,
      "metadata": {
        "colab": {
          "base_uri": "https://localhost:8080/"
        },
        "id": "qkFynBSSEBLf",
        "outputId": "f743a06a-c81c-4cd0-cf07-f61962bd32a4"
      },
      "outputs": [],
      "source": [
        "img_arr=np.expand_dims(img_arr,axis=0)\n",
        "print(img_arr.shape)"
      ]
    }
  ],
  "metadata": {
    "colab": {
      "authorship_tag": "ABX9TyM8yq14+liCUU0cZ0noPXu3",
      "include_colab_link": true,
      "mount_file_id": "1lJJ0sZah0s2ZU1eoqVgOQ0dKuIWpbtx0",
      "name": "spec.ipynb",
      "provenance": []
    },
    "kernelspec": {
      "display_name": ".venv",
      "language": "python",
      "name": "python3"
    },
    "language_info": {
      "codemirror_mode": {
        "name": "ipython",
        "version": 3
      },
      "file_extension": ".py",
      "mimetype": "text/x-python",
      "name": "python",
      "nbconvert_exporter": "python",
      "pygments_lexer": "ipython3",
      "version": "3.12.3"
    }
  },
  "nbformat": 4,
  "nbformat_minor": 0
}
