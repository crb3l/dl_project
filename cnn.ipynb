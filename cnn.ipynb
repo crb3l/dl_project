{
 "cells": [
  {
   "cell_type": "code",
   "execution_count": 1,
   "metadata": {},
   "outputs": [],
   "source": [
    "import warnings\n",
    "import os\n",
    "warnings.filterwarnings('ignore')\n",
    "os.environ['TF_CPP_MIN_LOG_LEVEL'] = '1'"
   ]
  },
  {
   "cell_type": "code",
   "execution_count": null,
   "metadata": {},
   "outputs": [],
   "source": [
    "import tensorflow as tf\n",
    "from tensorflow.python.client import device_lib\n",
    "import os\n",
    "os.environ['CUDA_VISIBLE_DEVICES'] = \"0\"\n",
    "\n",
    "print(device_lib.list_local_devices())\n",
    "print(\"Num GPUs Available: \", len(tf.config.list_physical_devices('GPU')))\n"
   ]
  },
  {
   "cell_type": "code",
   "execution_count": null,
   "metadata": {
    "colab": {
     "base_uri": "https://localhost:8080/"
    },
    "id": "UFqrtMNUSpL0",
    "outputId": "70727ab9-1363-411b-c484-c3bfdd03b8c5"
   },
   "outputs": [],
   "source": [
    "import numpy as np\n",
    "import glob\n",
    "import os\n",
    "import matplotlib.pyplot as plt\n",
    "from skimage.color import rgb2gray, rgba2rgb\n",
    "from matplotlib.image import imread\n",
    "#!pip install -q keras\n",
    "from keras.models import Sequential\n",
    "# from keras.models import Sequential\n",
    "from keras.layers import Conv2D, MaxPooling2D, Dense, Flatten, Activation, ReLU, Dropout\n",
    "from tensorflow.keras.utils import to_categorical\n",
    "\n",
    "class_names = ['flute', 'viola', 'cello', 'oboe', 'trumpet', 'saxophone']\n",
    "number_of_classes = len(class_names)\n",
    "\n",
    "instruments = {'flute':1, 'viola':2, 'cello':3, 'oboe':4, 'trumpet':5, 'saxophone':6}\n",
    "\n",
    "files = glob.glob('BasicsMusicalInstrumClassifi/audio/london_phill_dataset_multi/spectrograms2/*.png')\n",
    "np.random.shuffle(files)\n",
    "data, labels = [], []\n",
    "\n",
    "loaded = 0\n",
    "\n",
    "print('Number of samples {0}'.format(len(files)))\n",
    "\n",
    "for file in files:\n",
    "  img, name = imread(file), os.path.basename(file).split('_')[0]#file.split('/')[-1].split('_')[0]\n",
    "  img=rgba2rgb(img)\n",
    "  data.append(rgb2gray(img))\n",
    "  labels.append(instruments[name] - 1)\n",
    "\n",
    "  loaded += 1\n",
    "  if loaded % 200 == 0:\n",
    "    print(loaded)\n",
    "\n",
    "  if loaded == 5000:\n",
    "    break\n",
    "\n",
    "data, labels = np.array(data), np.array(labels)\n",
    "\n",
    "s_60p, s_20p = int(len(data) * 0.6), int(len(data) * 0.2)\n",
    "\n",
    "X_train, y_train = data[:s_60p], labels[:s_60p] #60%\n",
    "X_validation, y_validation = data[s_60p: s_60p + s_20p], labels[s_60p: s_60p + s_20p]  #20%\n",
    "X_test, y_test = data[s_60p + s_20p:], labels[s_60p + s_20p:] #20%\n",
    "\n",
    "print(X_train.shape, X_test.shape)\n"
   ]
  },
  {
   "cell_type": "code",
   "execution_count": null,
   "metadata": {
    "colab": {
     "base_uri": "https://localhost:8080/"
    },
    "id": "BWyFxK32ba5m",
    "outputId": "d52a3633-033a-45bb-dbff-317865491773"
   },
   "outputs": [],
   "source": [
    "print(X_validation.shape, y_validation.shape)"
   ]
  },
  {
   "cell_type": "code",
   "execution_count": null,
   "metadata": {},
   "outputs": [],
   "source": [
    "print (X_train.shape[0])"
   ]
  },
  {
   "cell_type": "code",
   "execution_count": null,
   "metadata": {
    "colab": {
     "base_uri": "https://localhost:8080/"
    },
    "id": "-W2uiiAebBde",
    "outputId": "e96a0901-0af4-43d2-d2ea-9c8f89597e48"
   },
   "outputs": [],
   "source": [
    "X_train = X_train.reshape(X_train.shape[0], 540, 1080,1)\n",
    "X_test = X_test.reshape(X_test.shape[0], 540, 1080, 1)\n",
    "X_validation = X_validation.reshape(X_validation.shape[0], 540, 1080, 1)\n",
    "\n",
    "print('Dataset has been loaded succesfully.')\n",
    "print(X_train.shape, y_train.shape)\n",
    "print(X_validation.shape, y_validation.shape)\n",
    "\n",
    "print(to_categorical(y_train).shape)\n",
    "print(to_categorical(y_validation).shape)\n",
    "print(X_train.shape[1:])\n",
    "\n",
    "epochs = 30\n",
    "\n",
    "model = Sequential([\n",
    "        Conv2D(32, (3, 3), input_shape=(540, 1080, 1)),\n",
    "        Activation('relu'),\n",
    "        Conv2D(32, (3, 3)),\n",
    "        Activation('relu'),\n",
    "        MaxPooling2D(pool_size=(3, 3)),\n",
    "        Dropout(0.25),\n",
    "\n",
    "        Conv2D(64, (3,3), padding='same'),\n",
    "        Activation('relu'),\n",
    "        Conv2D(64, (3, 3)),\n",
    "        Activation('relu'),\n",
    "        MaxPooling2D(pool_size=(3, 3)),\n",
    "        Dropout(0.25),\n",
    "\n",
    "        Conv2D(128, (3, 3), padding='same'),\n",
    "        Activation('relu'),\n",
    "        Conv2D(128, (3, 3)),\n",
    "        Activation('relu'),\n",
    "        MaxPooling2D(pool_size=(3, 3)),\n",
    "        Dropout(0.25),\n",
    "\n",
    "        Flatten(),\n",
    "        Dense(128),\n",
    "        Activation('relu'),\n",
    "        Dropout(0.5),\n",
    "        Dense(number_of_classes),\n",
    "        Activation('softmax')\n",
    "    ])\n"
   ]
  },
  {
   "cell_type": "code",
   "execution_count": null,
   "metadata": {},
   "outputs": [],
   "source": [
    "model.compile('adam', loss='categorical_crossentropy', metrics=['accuracy'])\n",
    "print(model.summary())\n",
    "\n"
   ]
  },
  {
   "cell_type": "code",
   "execution_count": null,
   "metadata": {},
   "outputs": [],
   "source": [
    "print('Fitting started...')\n",
    "history = model.fit(X_train, to_categorical(y_train), epochs=20, validation_data=(X_validation, to_categorical(y_validation)), batch_size=4)"
   ]
  },
  {
   "cell_type": "code",
   "execution_count": null,
   "metadata": {
    "colab": {
     "base_uri": "https://localhost:8080/",
     "height": 610
    },
    "id": "MqN7VAMlCGwX",
    "outputId": "98d40585-f251-4f34-dac8-95a336351a7b"
   },
   "outputs": [],
   "source": [
    "#model accuracy\n",
    "print(history.history)\n",
    "plt.plot(history.history['accuracy'])\n",
    "plt.plot(history.history['val_accuracy'])\n",
    "plt.title('Model accuracy')\n",
    "plt.ylabel('Accuracy')\n",
    "plt.xlabel('Epoch')\n",
    "plt.legend(['Train', 'Valid'], loc='upper left')\n",
    "plt.show()\n",
    "\n",
    "#model loss\n",
    "plt.plot(history.history['loss'])\n",
    "plt.plot(history.history['val_loss'])\n",
    "plt.title('Model loss')\n",
    "plt.ylabel('Loss')\n",
    "plt.xlabel('Epoch')\n",
    "plt.legend(['Train', 'Valid'], loc='upper left')\n",
    "plt.show()"
   ]
  },
  {
   "cell_type": "code",
   "execution_count": null,
   "metadata": {
    "colab": {
     "base_uri": "https://localhost:8080/"
    },
    "id": "OGcKsVW0aIPw",
    "outputId": "95ee6b31-6d9d-43b1-ec2b-de73120a53bf"
   },
   "outputs": [],
   "source": [
    "scores = model.evaluate(X_test, to_categorical(y_test), verbose=1)\n",
    "print(scores)"
   ]
  }
 ],
 "metadata": {
  "colab": {
   "authorship_tag": "ABX9TyNb39F9CZAmIqIWAMk/njRk",
   "include_colab_link": true,
   "mount_file_id": "1ZQu-0TGruSQENyl8HDxP1s30o0XwTrGO",
   "name": "cnn.ipynb",
   "provenance": []
  },
  "kernelspec": {
   "display_name": ".venv",
   "language": "python",
   "name": "python3"
  },
  "language_info": {
   "codemirror_mode": {
    "name": "ipython",
    "version": 3
   },
   "file_extension": ".py",
   "mimetype": "text/x-python",
   "name": "python",
   "nbconvert_exporter": "python",
   "pygments_lexer": "ipython3",
   "version": "3.12.3"
  }
 },
 "nbformat": 4,
 "nbformat_minor": 4
}
